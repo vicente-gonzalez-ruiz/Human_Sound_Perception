{
 "cells": [
  {
   "cell_type": "markdown",
   "metadata": {},
   "source": [
    "# Human Percepton of the Sound ([Psychoacoustics](https://en.wikipedia.org/wiki/Psychoacoustics))"
   ]
  },
  {
   "cell_type": "markdown",
   "metadata": {},
   "source": [
    "## Transduction\n",
    "* The human auditory system (HAS) is responsible for converting pressure variations caused by the sound waves (that reach the ear) in the synaptic signals that are interpreted by the brain.\n"
   ]
  },
  {
   "cell_type": "markdown",
   "metadata": {},
   "source": [
    "## Perception of sound intensity ([loudness](https://en.wikipedia.org/wiki/Loudness))\n",
    "\n",
    "* The relationship between the perceived volume of a sound and the actual volume of the sound is not linear, but logarithmic. For this reason, a decibel measurement of the sound intensity is the most appropriate to express this parameter.\n",
    "\n",
    "<img src=\"data/percepcion_de_la_intensidad_sonora.png\" width=400>"
   ]
  },
  {
   "cell_type": "markdown",
   "metadata": {},
   "source": [
    "## Absolute Threshold of Hearing (ATH)\n",
    "\n",
    "* Humans ear better those sounds that contains audio signals with frequencies that ranges between 3 KHz and 4 KHz.\n",
    "\n",
    "<img src=\"data/ATHM.png\" width=600>\n",
    "\n",
    "* The ATH shape depends on the loudness.\n",
    "\n",
    "<img src=\"https://upload.wikimedia.org/wikipedia/commons/thumb/4/47/Lindos1.svg/500px-Lindos1.svg.png\">"
   ]
  },
  {
   "cell_type": "markdown",
   "metadata": {},
   "source": [
    "## Frequency resolution and simultaneous masking\n",
    "\n",
    "* The HAS has a limited frequency resolution. Psychoacoustic experiments have demonstrated that the audible frequencies can be grouped into barks.\n",
    "\n",
    "<img src=\"https://siemensplm.i.lithium.com/t5/image/serverpage/image-id/39831iEECD52574330B111/image-size/large?v=1.0&px=999\">\n",
    "\n",
    "* Each bark defines the group of frequencies that excite the same cochlear area, i.e., those frequencies that can be masked by the tone with the highest energy (in that bark).\n",
    "\n",
    "* As a consequence of this behavior, simultanous sounds with similar frequencies will mask each other.\n",
    "\n",
    "<img src=\"https://staff.fnwi.uva.nl/a.vaninge/MM/_images/simultaneousmasking.gif\">"
   ]
  },
  {
   "cell_type": "markdown",
   "metadata": {},
   "source": [
    "## Temporal masking\n",
    "\n",
    "* [Temporal masking](https://en.wikipedia.org/wiki/Auditory_masking) occurs when the perception of one sound is inhibited by the presence of another sound.\n",
    "\n",
    "<img src=\"https://staff.fnwi.uva.nl/a.vaninge/MM/_images/temporal_masking.jpg\" width=800>\n",
    "\n"
   ]
  },
  {
   "cell_type": "markdown",
   "metadata": {},
   "source": [
    "## Finite temporal resolution\n",
    "\n",
    "* The HAS has inertia sounds are not instantly perceived and remains (in our brain) for a while after they are disapered.\n",
    "\n",
    "* Therefore, the HAS needs a minimum temporal separation between two sounds in order to distinguish a silence (independently of its frequencies). This is a consequence of the fact that after a sound disappears, the sensation of its existence lasts for a certain interval of time."
   ]
  },
  {
   "cell_type": "markdown",
   "metadata": {},
   "source": [
    "## Channel coupling\n",
    "\n",
    "* Most stereo (and in general, multichanel) signals transport similar audio information."
   ]
  },
  {
   "cell_type": "markdown",
   "metadata": {},
   "source": []
  }
 ],
 "metadata": {
  "kernelspec": {
   "display_name": "Python 3",
   "language": "python",
   "name": "python3"
  },
  "language_info": {
   "codemirror_mode": {
    "name": "ipython",
    "version": 3
   },
   "file_extension": ".py",
   "mimetype": "text/x-python",
   "name": "python",
   "nbconvert_exporter": "python",
   "pygments_lexer": "ipython3",
   "version": "3.6.3"
  }
 },
 "nbformat": 4,
 "nbformat_minor": 2
}
