{
 "cells": [
  {
   "cell_type": "markdown",
   "metadata": {},
   "source": [
    "# Human Percepton of the Sound ([Psychoacoustics](https://en.wikipedia.org/wiki/Psychoacoustics))"
   ]
  },
  {
   "cell_type": "markdown",
   "metadata": {},
   "source": [
    "## Transduction\n",
    "* The human auditory system (HAS) is responsible for converting pressure variations caused by the sound waves (that reach the ear) in the synaptic signals that are interpreted by the brain.\n"
   ]
  },
  {
   "cell_type": "markdown",
   "metadata": {},
   "source": [
    "## Perception of sound intensity ([loudness](https://en.wikipedia.org/wiki/Loudness))\n",
    "\n"
   ]
  },
  {
   "cell_type": "markdown",
   "metadata": {},
   "source": [
    "## Absolute Threshold of Hearing (ATH)\n",
    "\n",
    "* Humans ear better those sounds that contains audio signals with frequencies that ranges between 3 KHz and 4 KHz.\n"
   ]
  },
  {
   "cell_type": "markdown",
   "metadata": {},
   "source": [
    "## Frequency resolution and simultaneous masking\n",
    "\n",
    "* The HAS has a limited frequency resolution. Psychoacoustic experiments have demonstrated that the audible frequencies can be grouped into \\href{../../../Perception/Auditive_perception/index.html#x1-50004}{barks}.\n",
    "\n",
    "* Each bark defines the group of frequencies that excite the same cochlear area, i.e., those frequencies that can be masked by the tone with the highest energy (in that bark)."
   ]
  },
  {
   "cell_type": "markdown",
   "metadata": {},
   "source": [
    "## Temporal masking\n",
    "\n",
    "* The human auditory system has inertia:\n",
    "  \\href{../../../Perception/Auditive_perception/index.html#x1-70006}{sounds\n",
    "    are not instantly perceived and remains (in our brain) for a while after they are disapered}\n"
   ]
  },
  {
   "cell_type": "markdown",
   "metadata": {},
   "source": [
    "## Channel coupling\n",
    "\n",
    "* Most stereo (and in general, multichanel) signals transport similar audio information."
   ]
  },
  {
   "cell_type": "markdown",
   "metadata": {},
   "source": []
  }
 ],
 "metadata": {
  "kernelspec": {
   "display_name": "Python 3",
   "language": "python",
   "name": "python3"
  },
  "language_info": {
   "codemirror_mode": {
    "name": "ipython",
    "version": 3
   },
   "file_extension": ".py",
   "mimetype": "text/x-python",
   "name": "python",
   "nbconvert_exporter": "python",
   "pygments_lexer": "ipython3",
   "version": "3.6.3"
  }
 },
 "nbformat": 4,
 "nbformat_minor": 2
}
